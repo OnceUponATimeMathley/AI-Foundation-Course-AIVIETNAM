{
 "cells": [
  {
   "cell_type": "markdown",
   "metadata": {},
   "source": [
    "Một số hàm dùng để tính Convolution\n",
    "1. Numpy: np.einsum()\n",
    "2. Scipy: scipy.signal.convolve2d()\n",
    "3. cv2.filter2D()"
   ]
  },
  {
   "cell_type": "markdown",
   "metadata": {},
   "source": [
    "### Load image and bluring"
   ]
  },
  {
   "cell_type": "code",
   "execution_count": 3,
   "metadata": {},
   "outputs": [],
   "source": [
    "#Load image and bluring\n",
    "import numpy as np\n",
    "import cv2\n",
    "\n",
    "#load image \n",
    "image = cv2.imread(\"mrbean.jpg\", 0)\n",
    "\n",
    "#create kernel\n",
    "n = 5\n",
    "kernel_size = tuple((n,n))\n",
    "kernel = np.ones(kernel_size,np.float32)/(n*n)\n",
    "\n",
    "#compute mean for each pixel\n",
    "result_image = cv2.filter2D(image, cv2.CV_8U, kernel)\n",
    "\n",
    "#show image\n",
    "cv2.imshow(\"Image\", image)\n",
    "cv2.imshow(\"Result image\", result_image)\n",
    "\n",
    "#waiting for any key pressed and closing windows\n",
    "cv2.waitKey(0)\n",
    "cv2.destroyAllWindows()"
   ]
  },
  {
   "cell_type": "markdown",
   "metadata": {},
   "source": [
    "###  Face detection"
   ]
  },
  {
   "cell_type": "code",
   "execution_count": 6,
   "metadata": {},
   "outputs": [],
   "source": [
    "#Load image and bluring\n",
    "import numpy as np\n",
    "import cv2\n",
    "\n",
    "#face detection setup\n",
    "face_cascade = cv2.CascadeClassifier('haarcascade_frontalface_default.xml')\n",
    "\n",
    "#load image \n",
    "image = cv2.imread(\"mrbean.jpg\", 1)\n",
    "\n",
    "#convert image to gray scale\n",
    "gray_image = cv2.cvtColor(image, cv2.COLOR_BGR2GRAY)\n",
    "\n",
    "#face detection\n",
    "faces = face_cascade.detectMultiScale(image, 1.1, 4)\n",
    "\n",
    "#setup color and draw rectangles, thickness (pixel)\n",
    "thickness = 2\n",
    "color = (0,255,0)\n",
    "for (x,y,w,h) in faces:\n",
    "    cv2.rectangle(image,(x,y), (x+h, y+w), color, thickness)\n",
    "    \n",
    "#show image\n",
    "cv2.imshow(\"Image\", image)\n",
    "\n",
    "#waiting for any key pressed and closing windows\n",
    "cv2.waitKey(0)\n",
    "cv2.destroyAllWindows()"
   ]
  },
  {
   "cell_type": "markdown",
   "metadata": {},
   "source": [
    "### Load image and bluring using face detection"
   ]
  },
  {
   "cell_type": "code",
   "execution_count": 13,
   "metadata": {},
   "outputs": [],
   "source": [
    "#Load image and bluring\n",
    "import numpy as np\n",
    "import cv2\n",
    "\n",
    "#face detection setup\n",
    "face_cascade = cv2.CascadeClassifier('haarcascade_frontalface_default.xml')\n",
    "\n",
    "#load image \n",
    "image = cv2.imread(\"mrbean.jpg\", 1)\n",
    "\n",
    "#convert image to gray scale\n",
    "gray_image = cv2.cvtColor(image, cv2.COLOR_BGR2GRAY)\n",
    "\n",
    "#face detection\n",
    "faces = face_cascade.detectMultiScale(image, 1.1, 4)\n",
    "\n",
    "#create kernel\n",
    "n = 5\n",
    "kernel_size = tuple((n,n))\n",
    "kernel = np.ones(kernel_size,np.float32)/(n*n)\n",
    "\n",
    "#setup color and draw rectangles, thickness (pixel)\n",
    "thickness = 2\n",
    "color = (0,255,0)\n",
    "for (x,y,w,h) in faces:\n",
    "    cv2.rectangle(image,(x,y), (x+h, y+w), color, thickness)\n",
    "    \n",
    "    arr = image[y:y+h, x:x+w]\n",
    "   \n",
    "    arr = cv2.filter2D(arr, cv2.CV_8U, kernel)\n",
    "    arr = cv2.filter2D(arr, cv2.CV_8U, kernel)\n",
    "    arr = cv2.filter2D(arr, cv2.CV_8U, kernel)\n",
    "    image[y:y+h, x:x+w] = arr\n",
    "    \n",
    "#show image\n",
    "cv2.imshow(\"Image\", image)\n",
    "\n",
    "#waiting for any key pressed and closing windows\n",
    "cv2.waitKey(0)\n",
    "cv2.destroyAllWindows()"
   ]
  }
 ],
 "metadata": {
  "kernelspec": {
   "display_name": "Python 3",
   "language": "python",
   "name": "python3"
  },
  "language_info": {
   "codemirror_mode": {
    "name": "ipython",
    "version": 3
   },
   "file_extension": ".py",
   "mimetype": "text/x-python",
   "name": "python",
   "nbconvert_exporter": "python",
   "pygments_lexer": "ipython3",
   "version": "3.7.6"
  }
 },
 "nbformat": 4,
 "nbformat_minor": 4
}
