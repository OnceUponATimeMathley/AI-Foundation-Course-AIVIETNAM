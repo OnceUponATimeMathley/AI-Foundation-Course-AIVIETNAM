{
 "cells": [
  {
   "cell_type": "markdown",
   "metadata": {},
   "source": [
    "# Lý thuyết\n",
    "\n",
    "1. Hệ số tương quan được dùng để tính toán độ mạnh, yếu của sự liên hệ hai dữ liệu.\n",
    "2. Giá trị nằm trong khoảng từ -1 đến 1.\n",
    "3. + 1 : tương quan thuận mạnh\n",
    "   + -1 : tương quan nghịch mạnh\n",
    "   + 0 : độc lập\n",
    "   <br>\n",
    "   <img align=\"left\" src=\"correlation_coefficent_r.png\" >\n",
    "   <br>\n",
    "   <br>\n",
    "   <br>\n",
    "   <br>\n",
    "   <br>\n",
    "   <br>\n",
    "   <br>\n",
    "   <br>\n",
    "   <br>\n",
    "   <br>\n",
    "   <br>\n",
    "   <br>\n",
    "4. Công thức tính hệ số tương quan: <br> <br>\n",
    "$$\n",
    "\\rho_{xy} = \\frac{Cov\\left ( x,y \\right )}{\\sigma _{x}\\sigma _{y}}=\\frac{n\\left ( \\sum xy \\right )-\\left ( \\sum x \\right )\\left ( \\sum y \\right )}{\\sqrt{\\left [ n\\sum x^{2}-\\left ( \\sum x \\right )^{2} \\right ]\\left [ n\\sum y^{2}-\\left ( \\sum y \\right )^{2} \\right ]}} $$\n",
    "5. Tính chất cơ bản:\n",
    "    $\\rho_{xy} = \\rho_{uv}$ <br>\n",
    "Trong đó: <br>\n",
    "    + $u = ax+b$\n",
    "    + $v = cy+d$"
   ]
  },
  {
   "cell_type": "markdown",
   "metadata": {},
   "source": [
    "# Application to template matching"
   ]
  },
  {
   "cell_type": "markdown",
   "metadata": {},
   "source": [
    "### Description:\n",
    "Cho một hình ảnh lớn và một hình template nhỏ, tìm vị trí tương ứng của template trong hình lớn dựa vào hệ số tương quan.\n",
    "Vùng nào có hệ số tương quan với template lớn nhất thì vùng đó có khả năng cao nhất là vùng giống với template.\n",
    "\n",
    "### Implementation:\n",
    "1. Load ảnh lên và chuyển về ảnh grayscale\n",
    "2. Dùng hàm matchTemplate() để tính hệ số tương quan giữa template và vùng ảnh con của ảnh grayscale, từng vùng ảnh con của\n",
    " grayscale sẽ được duyệt qua.\n",
    "3. Tìm vị trí có giá trị min, max sau khi có được ma trận giá trị hệ số tương quan\n",
    "4. Vẽ và tô màu vùng cần tìm bằng hàm rectangle()\n",
    "5. Lưu cách ảnh cần thiết."
   ]
  },
  {
   "cell_type": "code",
   "execution_count": 1,
   "metadata": {},
   "outputs": [
    {
     "data": {
      "text/plain": [
       "True"
      ]
     },
     "execution_count": 1,
     "metadata": {},
     "output_type": "execute_result"
    }
   ],
   "source": [
    "import cv2\n",
    "import numpy as np\n",
    "from matplotlib import pyplot as plt\n",
    "\n",
    "# Load image and convert to grayscale\n",
    "image = cv2.imread('image.png',1)\n",
    "gray  = cv2.cvtColor(image, cv2.COLOR_BGR2GRAY)\n",
    "\n",
    "template = cv2.imread('template.png',0)\n",
    "w, h = template.shape[::-1]\n",
    "\n",
    "# Apply template Matching\n",
    "corr_map = cv2.matchTemplate(gray, template, cv2.TM_CCOEFF_NORMED)\n",
    "min_val, max_val, min_loc, max_loc = cv2.minMaxLoc(corr_map) \n",
    "\n",
    "# take minimum\n",
    "top_left = max_loc\n",
    "bottom_right = (top_left[0] + w, top_left[1] + h)\n",
    "\n",
    "# draw \n",
    "cv2.rectangle(image, top_left, bottom_right, (0, 255, 0), 2)\n",
    "\n",
    "# save corr map in grayscale\n",
    "corr_map = (corr_map+1.0)*127.5\n",
    "corr_map = corr_map.astype('uint8') \n",
    "cv2.imwrite('corr_map_grayscale.png', corr_map)\n",
    "\n",
    "# applyColorMap\n",
    "corr_map = cv2.applyColorMap(corr_map, cv2.COLORMAP_JET)\n",
    "\n",
    "# save results\n",
    "cv2.imwrite('corr_map_color.png', corr_map)\n",
    "cv2.imwrite('result.png', image)"
   ]
  }
 ],
 "metadata": {
  "kernelspec": {
   "display_name": "Python 3",
   "language": "python",
   "name": "python3"
  },
  "language_info": {
   "codemirror_mode": {
    "name": "ipython",
    "version": 3
   },
   "file_extension": ".py",
   "mimetype": "text/x-python",
   "name": "python",
   "nbconvert_exporter": "python",
   "pygments_lexer": "ipython3",
   "version": "3.7.6"
  }
 },
 "nbformat": 4,
 "nbformat_minor": 4
}
