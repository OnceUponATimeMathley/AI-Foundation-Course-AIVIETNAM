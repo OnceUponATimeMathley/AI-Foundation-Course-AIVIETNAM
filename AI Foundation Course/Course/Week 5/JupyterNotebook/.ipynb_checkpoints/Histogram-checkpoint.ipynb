{
 "cells": [
  {
   "cell_type": "markdown",
   "metadata": {},
   "source": [
    "# Histogram Equalization"
   ]
  },
  {
   "cell_type": "markdown",
   "metadata": {},
   "source": [
    "### Theory\n",
    "\n",
    "Xem xét một bức ảnh mà các giá trị pixel của nó bị giới hạn trong một số vùng giá trị nào đó. \n",
    "Ví dụ: Ảnh sáng sẽ có các giá trị pixel nằm chủ yếu trong vùng giá trị cao. Nhưng một bức ảnh tốt thì có giá trị pixel\n",
    "nằm trong các vùng khác nhau một pixel có thể (từ 0-255). Nên chúng ta cần phải giãn (stretch) bức ảnh ra về hai phía.\n",
    "Đó chính là cách Histogram Equalization hoạt động (cách đơn giản). Nó thường cải thiện độ tương phản của một bức ảnh.\n",
    "Xem ảnh dưới:\n",
    "\n",
    "<img align=\"left\" src=\"histogram_equalization_1.png\" >\n",
    "<br>\n",
    "<br>\n",
    "<br>\n",
    "<br>\n",
    "<br>\n",
    "<br>\n",
    "<br>\n",
    "<br>\n",
    "<br>  \n",
    "Bạn có thể vào đường dẫn sau <a href=\"https://en.wikipedia.org/wiki/Histogram_equalization\" target=\"_top\">Histogram Equalization</a> để đọc thêm chi tiết về vấn đề này. Ở đó có trình bày cụ thể kèm theo một số ví dụ minh họa. Hoặc chúng ta có thể xem đoạn code Numpy ở phía dưới. \n",
    "\n"
   ]
  },
  {
   "cell_type": "code",
   "execution_count": null,
   "metadata": {},
   "outputs": [],
   "source": [
    "import cv2\n",
    "import numpy as np\n",
    "from matplotlib import pyplot as plt\n",
    "\n",
    "img = cv2.imread('wiki.jpg',0)\n",
    "cv2.imwrite(\"histogram_before_handle.png\",img)\n",
    "\n",
    "hist,bins = np.histogram(img.flatten(),256,[0,256])\n",
    "\n",
    "cdf = hist.cumsum()\n",
    "cdf_normalized = cdf * hist.max()/ cdf.max()\n",
    "\n",
    "plt.plot(cdf_normalized, color = 'b')\n",
    "plt.hist(img.flatten(),256,[0,256], color = 'r')\n",
    "plt.xlim([0,256])\n",
    "plt.legend(('cdf','histogram'), loc = 'upper left')\n",
    "plt.show()"
   ]
  },
  {
   "cell_type": "code",
   "execution_count": null,
   "metadata": {},
   "outputs": [],
   "source": [
    "img.flatten()"
   ]
  },
  {
   "cell_type": "code",
   "execution_count": null,
   "metadata": {},
   "outputs": [],
   "source": [
    "hist"
   ]
  },
  {
   "cell_type": "code",
   "execution_count": null,
   "metadata": {},
   "outputs": [],
   "source": [
    "bins"
   ]
  },
  {
   "cell_type": "code",
   "execution_count": null,
   "metadata": {},
   "outputs": [],
   "source": [
    "cdf"
   ]
  },
  {
   "cell_type": "code",
   "execution_count": null,
   "metadata": {},
   "outputs": [],
   "source": [
    "cdf_normalized"
   ]
  },
  {
   "cell_type": "code",
   "execution_count": null,
   "metadata": {},
   "outputs": [],
   "source": [
    "img.shape"
   ]
  },
  {
   "cell_type": "markdown",
   "metadata": {},
   "source": [
    "Chúng ta tìm giá trị histogram nhỏ nhất (khác 0) và áp dụng công thức ở <a href=\"https://en.wikipedia.org/wiki/Histogram_equalization\" target=\"_top\">Histogram Equalization</a> để chuẩn hóa histogram"
   ]
  },
  {
   "cell_type": "code",
   "execution_count": null,
   "metadata": {},
   "outputs": [],
   "source": [
    "cdf_m = np.ma.masked_equal(cdf,0)\n",
    "cdf_m = (cdf_m - cdf_m.min())*255/(cdf_m.max()-cdf_m.min())\n",
    "cdf = np.ma.filled(cdf_m,0).astype('uint8')\n"
   ]
  },
  {
   "cell_type": "code",
   "execution_count": null,
   "metadata": {},
   "outputs": [],
   "source": [
    "'''\n",
    "Sau khi chuẩn hóa xong thì ta có thể lấy thông tin của ảnh sau khi đã chuẩn hóa bằng\n",
    "'''\n",
    "img2 = cdf[img]"
   ]
  },
  {
   "cell_type": "code",
   "execution_count": null,
   "metadata": {},
   "outputs": [],
   "source": [
    "cv2.imshow(\"Image\", img2)\n",
    "cv2.waitKey(0)\n",
    "cv2.destroyAllWindows()\n",
    "cv2.imwrite(\"histogram_after_handle.png\",img2)"
   ]
  },
  {
   "cell_type": "markdown",
   "metadata": {},
   "source": [
    "# Kết quả\n",
    "<img align=\"left\" src=\"histogram_before_handle.png\" >\n",
    "<img align=\"left\" src=\"histogram_after_handle.png\" >"
   ]
  }
 ],
 "metadata": {
  "kernelspec": {
   "display_name": "Python 3",
   "language": "python",
   "name": "python3"
  },
  "language_info": {
   "codemirror_mode": {
    "name": "ipython",
    "version": 3
   },
   "file_extension": ".py",
   "mimetype": "text/x-python",
   "name": "python",
   "nbconvert_exporter": "python",
   "pygments_lexer": "ipython3",
   "version": "3.7.6"
  }
 },
 "nbformat": 4,
 "nbformat_minor": 4
}
