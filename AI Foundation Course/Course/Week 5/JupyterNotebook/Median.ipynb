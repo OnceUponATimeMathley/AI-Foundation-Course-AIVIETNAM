{
 "cells": [
  {
   "cell_type": "raw",
   "metadata": {},
   "source": [
    "### Denoising using median"
   ]
  },
  {
   "cell_type": "code",
   "execution_count": 1,
   "metadata": {},
   "outputs": [],
   "source": [
    "#denoising using median\n",
    "\n",
    "import numpy as np\n",
    "import cv2\n",
    "\n",
    "#load image\n",
    "image = cv2.imread('mrbean_noise.jpg')\n",
    "\n",
    "#denoising using median: cv2.medianBlur() function\n",
    "# 3 is kernel size, we can increase the kernel size, it result in blurring the image more.\n",
    "result_image = cv2.medianBlur(image,3)\n",
    "\n",
    "\n",
    "#display image\n",
    "cv2.imshow(\"Image\", image)\n",
    "cv2.imshow(\"Result image\", result_image)\n",
    "\n",
    "#waiting for any key pressed and closing windows\n",
    "cv2.waitKey(0)\n",
    "cv2.destroyAllWindows()"
   ]
  },
  {
   "cell_type": "code",
   "execution_count": null,
   "metadata": {},
   "outputs": [],
   "source": []
  }
 ],
 "metadata": {
  "kernelspec": {
   "display_name": "Python 3",
   "language": "python",
   "name": "python3"
  },
  "language_info": {
   "codemirror_mode": {
    "name": "ipython",
    "version": 3
   },
   "file_extension": ".py",
   "mimetype": "text/x-python",
   "name": "python",
   "nbconvert_exporter": "python",
   "pygments_lexer": "ipython3",
   "version": "3.7.6"
  }
 },
 "nbformat": 4,
 "nbformat_minor": 4
}
