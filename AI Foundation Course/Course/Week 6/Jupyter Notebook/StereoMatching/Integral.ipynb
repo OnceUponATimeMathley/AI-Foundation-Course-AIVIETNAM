{
 "cells": [
  {
   "cell_type": "markdown",
   "metadata": {},
   "source": [
    "# Integral\n",
    "\n",
    "\n",
    "\n",
    "<img align=\"left\" width =100 height = 100 src=\"integral_1.png\">\n"
   ]
  }
 ],
 "metadata": {
  "kernelspec": {
   "display_name": "Python 3",
   "language": "python",
   "name": "python3"
  },
  "language_info": {
   "codemirror_mode": {
    "name": "ipython",
    "version": 3
   },
   "file_extension": ".py",
   "mimetype": "text/x-python",
   "name": "python",
   "nbconvert_exporter": "python",
   "pygments_lexer": "ipython3",
   "version": "3.7.6"
  }
 },
 "nbformat": 4,
 "nbformat_minor": 4
}
