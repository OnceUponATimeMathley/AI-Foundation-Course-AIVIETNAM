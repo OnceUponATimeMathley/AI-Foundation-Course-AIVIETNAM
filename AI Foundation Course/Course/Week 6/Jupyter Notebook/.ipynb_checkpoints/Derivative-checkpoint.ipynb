{
 "cells": [
  {
   "cell_type": "markdown",
   "metadata": {},
   "source": [
    "# Derivative\n",
    "\n",
    "## Đạo hàm\n",
    "\n",
    "### Định nghĩa đạo hàm\n",
    "Giới hạn, nếu có, của tỉ số giữa số gia của hàm số và số gia của đối số tại $x_{0}$  khi số gia của đối số tiến dần tới 0, được gọi là đạo hàm của hàm số $y = f(x)$ tại điểm $x_{0}$. <br>\n",
    "Đạo hàm của hàm số $y = f(x)$ được ký hiệu là $y'(x_{0})$ hoặc $f'(x_{0})$. <br> <br>\n",
    "                    $$f'(x_{0}) = \\lim_{x\\rightarrow x_{0}}\\frac{f(x)-f(x_{0})}{x-x_{0}}$$\n",
    "hoặc <br> <br>\n",
    "$$\n",
    "y'(x_{0})= \\lim_{\\Delta x\\rightarrow 0}\\frac{\\Delta y}{\\Delta x}\n",
    "$$\n",
    "\n",
    "### Ý nghĩa hình học\n",
    "Đạo hàm của hàm số $f(x)$ tại điểm $x_{0}$ là hệ số góc của tiếp tuyến tại điểm $M(x_{0}, f(x_{0}))$.\n",
    "<br>\n",
    "<br>\n",
    "<img align=\"left\" src=\"derivative_meaning.png\" >\n"
   ]
  },
  {
   "cell_type": "markdown",
   "metadata": {},
   "source": [
    "## Giới thiệu:\n",
    "\n",
    "+ Trong phần tiếp theo thì chúng ta sẽ tìm hiểu về edge detection dùng đạo hàm (Derivative)\n",
    "Trước khi đi vào phần tiếp thì có thể tham khảo một số đường link dưới đây để tìm hiểu thêm về:\n",
    "    1. [Sobel derivative](https://docs.opencv.org/3.4/d2/d2c/tutorial_sobel_derivatives.html): ở đây có luôn phần hiện thực và giải thích.\n",
    "    2. Một số hàm liên quan:\n",
    "        + [Hàm cv2.addWeighted()](https://opencv-python-tutroals.readthedocs.io/en/latest/py_tutorials/py_core/py_image_arithmetics/py_image_arithmetics.html)\n",
    "        + [Hàm cv2.Sobel()](https://docs.opencv.org/3.4/d4/d86/group__imgproc__filter.html#gacea54f142e81b6758cb6f375ce782c8d)\n",
    "        + [Hàm cv.GaussianBlur()](https://docs.opencv.org/3.4/d4/d86/group__imgproc__filter.html#gaabe8c836e97159a9193fb0b11ac52cf1)\n",
    "        + [Hàm cv.cvtColor()](https://docs.opencv.org/3.4/d8/d01/group__imgproc__color__conversions.html#ga397ae87e1288a81d2363b61574eb8cab)\n",
    "        + [Hàm cv2.convertScaleAbs()](https://docs.opencv.org/3.4/d2/de8/group__core__array.html#ga3460e9c9f37b563ab9dd550c4d8c4e7d)\n",
    "+ Cơ sở lý thuyết: \n",
    "Khi muốn tìm cạnh (edge) trong ảnh số thì ta tìm tập hợp những pixel mà nó có độ thay đổi lớn với các điểm pixel bên cạnh theo một chiều nào đó. Trong bài này ta áp dụng kernel là Sobel, kernel Sobel có ý tưởng từ công thức đạo hàm ở bên dưới, kết hợp với điểm pixel ở trên và dưới của điểm pixel cần tìm đạo hàm và nhân các hệ số tương ứng để giảm nhiễu<br><br>\n",
    "<img align=\"left\" src=\"meaning_1.png\" >\n",
    "<img align=\"left\" src=\"meaning_2.png\" > \n",
    "<br><br><br><br><br><br><br><br><br><br><br><br><br><br><br><br><br><br><br><br><br><br><br><br><br><br><br><br><br><br>\n",
    "<br><br><br><br><br><br><br><br><br><br><br>\n",
    "Một hàm khác có hiệu quả hơn khi dùng có thể tham khảo là kernel Scharr(). Tham khảo thêm ở link phía trên hoặc một số nguồn khác<br>\n",
    "\n",
    "<img align=\"left\" src=\"meaning_3.png\" >\n",
    "<br> <br> <br><br><br><br><br><br><br><br><br>\n",
    "    Ý nghĩa của công ma trận Sobel ở trên là khi muốn tìm đạo hàm tại một điểm pixel (giả sử là (x,y)) trên ảnh, ta sẽ tính đạo hàm theo chiều x bằng công thức rời rạc ở trên, tức là f(x+1,y)-f(x-1,y) (với f(x,y) là giá trị pixel tại điểm (x,y))), vì để giảm bớt nhiễu thì khi xử lý ảnh người ta thường sẽ dùng một số phương pháp làm mờ để giảm nhiễu trước khi áp dụng Sobel. Có một cách đơn giản mà có thể dùng đó là sử dụng đạo hàm tại điểm (x, y-1) và (x, y+1) sau đó kết hợp với đạo hàm tại điểm (x,y) với các hệ số được nhân vào tương ứng tùy vào độ phụ thuộc, hay quan trọng của mỗi đạo hàm, từ ý tưởng trên ta thu được ma trận Sobel theo hai chiều x,y. Sau khi tính được độ thay đổi đạo hàm theo mỗi chiều thì ta có thể tính được đạo hàm tại điểm cụ thể."
   ]
  },
  {
   "cell_type": "code",
   "execution_count": 1,
   "metadata": {},
   "outputs": [
    {
     "name": "stdout",
     "output_type": "stream",
     "text": [
      "Error opening image: -f\n"
     ]
    }
   ],
   "source": [
    "\"\"\"\n",
    "Example code in https://docs.opencv.org/3.4/d2/d2c/tutorial_sobel_derivatives.html\n",
    "See detail explaination in that link.\n",
    "\"\"\"\n",
    "\n",
    "\"\"\"\n",
    "@file sobel_demo.py\n",
    "@brief Sample code using Sobel and/or Scharr OpenCV functions to make a simple Edge Detector\n",
    "\"\"\"\n",
    "import sys\n",
    "import cv2 as cv\n",
    "def main(argv):\n",
    "    \n",
    "    window_name = ('Sobel Demo - Simple Edge Detector')\n",
    "    scale = 1\n",
    "    delta = 0\n",
    "    ddepth = cv.CV_16S\n",
    "    \n",
    "    \n",
    "    if len(argv) < 1:\n",
    "        print ('Not enough parameters')\n",
    "        print ('Usage:\\nmorph_lines_detection.py < path_to_image >')\n",
    "        return -1\n",
    "    # Load the image\n",
    "    src = cv.imread(argv[0], cv.IMREAD_COLOR)\n",
    "    # Check if image is loaded fine\n",
    "    if src is None:\n",
    "        print ('Error opening image: ' + argv[0])\n",
    "        return -1\n",
    "    \n",
    "    \n",
    "    src = cv.GaussianBlur(src, (3, 3), 0)\n",
    "    \n",
    "    \n",
    "    gray = cv.cvtColor(src, cv.COLOR_BGR2GRAY)\n",
    "    \n",
    "    \n",
    "    grad_x = cv.Sobel(gray, ddepth, 1, 0, ksize=3, scale=scale, delta=delta, borderType=cv.BORDER_DEFAULT)\n",
    "    # Gradient-Y\n",
    "    # grad_y = cv.Scharr(gray,ddepth,0,1)\n",
    "    grad_y = cv.Sobel(gray, ddepth, 0, 1, ksize=3, scale=scale, delta=delta, borderType=cv.BORDER_DEFAULT)\n",
    "    \n",
    "    \n",
    "    abs_grad_x = cv.convertScaleAbs(grad_x)\n",
    "    abs_grad_y = cv.convertScaleAbs(grad_y)\n",
    "    \n",
    "    \n",
    "    grad = cv.addWeighted(abs_grad_x, 0.5, abs_grad_y, 0.5, 0)\n",
    "    \n",
    "    \n",
    "    cv.imshow(window_name, grad)\n",
    "    cv.waitKey(0)\n",
    "    \n",
    "    return 0\n",
    "if __name__ == \"__main__\":\n",
    "    main(sys.argv[1:])\n",
    "    "
   ]
  },
  {
   "cell_type": "markdown",
   "metadata": {},
   "source": [
    "Tham khảo: \n",
    "1. [Open Source Computer Vision, _Sobel Derivatives_, Visited: 27/10/2020](https://docs.opencv.org/3.4/d2/d2c/tutorial_sobel_derivatives.html)\n",
    "2. [Bui Quang Manh, _Edge Detection với Opencv (Part 1)_, Visited: 27/10/2020](https://viblo.asia/p/part1-edge-detection-voi-opencv-L4x5xLVB5BM)\n",
    "3. [Bui Quang Manh, _Edge Detection với Opencv (Part 2)_, Visited: 27/10/2020](https://viblo.asia/p/part-2-edge-detection-voi-opencv-eW65Gv4YlDO)"
   ]
  }
 ],
 "metadata": {
  "kernelspec": {
   "display_name": "Python 3",
   "language": "python",
   "name": "python3"
  },
  "language_info": {
   "codemirror_mode": {
    "name": "ipython",
    "version": 3
   },
   "file_extension": ".py",
   "mimetype": "text/x-python",
   "name": "python",
   "nbconvert_exporter": "python",
   "pygments_lexer": "ipython3",
   "version": "3.7.6"
  }
 },
 "nbformat": 4,
 "nbformat_minor": 4
}
