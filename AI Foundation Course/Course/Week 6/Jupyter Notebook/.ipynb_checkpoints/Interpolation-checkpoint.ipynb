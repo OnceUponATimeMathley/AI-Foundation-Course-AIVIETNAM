{
 "cells": [
  {
   "cell_type": "markdown",
   "metadata": {},
   "source": [
    "# Interpolation\n",
    "\n",
    "## Nội suy\n",
    "\n",
    "#### 1. Định nghĩa:\n",
    "    Nội suy là phương pháp ước tính giá trị của các điểm dữ liệu chưa biết trong phạm vi của một tập hợp rời rạc chứa một số điểm dữ liệu đã biết.\n",
    "#### 2. Hai phương pháp nội suy đơn giản:\n",
    "<img align=\"left\" src=\"two_simple_interpolation.png\" >\n",
    "<br> <br><br><br><br><br><br><br><br><br><br><br><br><br><br><br><br><br>\n",
    "\n",
    "1. Nearest Neighbor (Láng giềng gần nhất)<br>\n",
    "    Đây là phương pháp nội suy các giá trị cần tìm bằng việc sử dụng một hàm nào đó để đánh giá một điểm cần nội suy sẽ được ưu tiên là láng giềng với điểm nào đó biết trước.<br>\n",
    "##### Ví dụ: <br>\n",
    "    Xét trong không gian hai chiều ở hình phía trên, ta có hai điểm $A(3,4)$ và $B(8,7)$. Ta cần đi nội suy giá trị của hàm $y=f(x)$ với giá trị x biết trước, trong ví dụ này $x\\in \\left \\{ 4,5,6,7 \\right \\}$.<br>\n",
    "Với phương pháp nearest neighbor, trong ví dụ trên ta sử dụng hàm khoảng cách giữa hai điểm trên trục x, ta thấy các giá trị của x là $4$ và $5$ gần với tọa độ trục x của điểm A hơn điểm B nên ta nội suy ra $f(4)=f(5)=f(3)=4$ và các giá trị của x là $6$ và $7$ gần với tọa độ của điểm B hơn điểm A nên ta nội suy ra $f(6)=f(7)=f(8)=7$<br> <br>\n",
    "\n",
    "2. Linear (Tuyến tính)<br>\n",
    "    Đây là phương pháp nội suy các giá trị cần tìm bằng việc tìm phương trình đường thẳng đi qua hai điểm cho trước $y=f(*argv)$ và từ phương trình đường thẳng này, khi có một bộ giá trị $*argv$, ta sẽ nội suy được giá trị của $f(*argv)$ dựa vào phương trình đường thẳng vừa tìm được. <br>\n",
    "##### Ví dụ 1:<br>\n",
    "    Xét trong không gian hai chiều ở ví dụ trên, ta có hai điểm $A(3,4)$ và $B(8,7)$. Ta cần đi nội suy giá trị của hàm $y=f(x)$ với giá trị x biết trước, trong ví dụ này $x\\in \\left \\{ 4,5,6,7 \\right \\}$.<br>\n",
    "Với phương pháp tuyến tính, đầu tiên ta tìm được phương trình đường thẳng đi qua hai điểm này là $y=0.6x+2.2$ $\\color{blue}{(1)}$. Ta có thể nội suy các giá trị của $f(x)$ với $x\\in \\left \\{ 4,5,6,7 \\right \\}$ bằng cách thay các giá trị x lần lượt vào hàm $\\color{blue}{(1)}$. <br> <br>\n",
    "\n",
    "    ##### Ví dụ 2:<br>\n",
    "<img align=\"left\" src=\"linear_interpolation.png\" >\n",
    "<br><br><br><br><br><br><br><br><br><br><br><br><br><br>\n",
    "    Trong trường hợp không gian ba chiều như trên thì ta có thể dùng cách như sau để nội suy. Ta sẽ tìm hai phương trình đường thẳng đi qua từng cặp điểm $\\left ( Q_{12}, Q_{22} \\right )$ và $\\left ( Q_{11}, Q_{21} \\right )$, sau đó ta thay giá trị của điểm P cần nội suy vào hai đường thẳng ta thu được hai điểm $R_{1}$ và $R_{2}$.<br>\n",
    "Tương tự, ta cũng sẽ tìm phương trình đường thẳng đi qua hai điểm trên và thay giá trị P vào phương trình đường thẳng trên thì thu được giá trị nội suy cần tìm."
   ]
  },
  {
   "cell_type": "markdown",
   "metadata": {},
   "source": [
    "## Image upsampling\n",
    "\n",
    "#### Phóngto ảnh (upsampling/super-resolution) có thể giải quyết bằng phép nội suy. Tìm giá trị cho các điểm ảnh mới ở ảnh phóng to dựa vào thông tin từ ảnh gốc.\n",
    "\n",
    "###### Dựa vào hai phương pháp đơn giản ở trên ta có thể phóng to một ảnh, điền các giá trị pixel bị thiếu bằng hai phương pháp nội suy đơn giản ở trên"
   ]
  },
  {
   "cell_type": "code",
   "execution_count": null,
   "metadata": {},
   "outputs": [],
   "source": []
  }
 ],
 "metadata": {
  "kernelspec": {
   "display_name": "Python 3",
   "language": "python",
   "name": "python3"
  },
  "language_info": {
   "codemirror_mode": {
    "name": "ipython",
    "version": 3
   },
   "file_extension": ".py",
   "mimetype": "text/x-python",
   "name": "python",
   "nbconvert_exporter": "python",
   "pygments_lexer": "ipython3",
   "version": "3.7.6"
  }
 },
 "nbformat": 4,
 "nbformat_minor": 4
}
