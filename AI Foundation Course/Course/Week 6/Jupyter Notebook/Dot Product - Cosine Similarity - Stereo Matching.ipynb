{
 "cells": [
  {
   "cell_type": "markdown",
   "metadata": {},
   "source": [
    "# Dot product\n",
    "\n",
    "<img align=\"left\" src=\"dot_product_1.png\" >\n",
    "<br><br><br><br><br><br><br><br><br><br><br><br><br><br><br><br><br><br><br><br><br><br><br><br>\n",
    "\n",
    "\n",
    "## Lý thuyết\n",
    "\n",
    "1. Giả sử ta có hai vector a và b, thì phép dot product của a lên b hay $\\overrightarrow{a}.\\overrightarrow{b}$ cũng như ta lấy hình chiếu của vector a xuống vector b.\n",
    "\n",
    "2. Khi mà ta có một tập dữ liệu có vector là n chiều, ta muốn giảm số chiều dữ liệu, ta sẽ tìm $k < n$ và k vector đơn vị của không gian $R^{k}$, sau đó ta chiều các điểm dữ liệu xuống k vector đơn vị đó.\n",
    "\n",
    "Các kiến thức liên quan về giải tích và đại số có thể tham khảo ở ebook sách Machine Learning cơ bản:\n",
    "[Ebook sách Machine Learning cơ bản](https://github.com/tiepvupsu/tiepvupsu.github.io/blob/master/ML_math.pdf)\n",
    "<img align=\"left\" src=\"dot_product_2.png\" >\n",
    "<br><br><br><br><br><br><br><br><br><br><br><br><br><br><br><br><br>\n",
    "<img align=\"left\" src=\"dot_product_3.png\" >\n",
    "<br><br><br><br><br><br><br><br><br><br><br><br><br><br><br><br><br><br><br><br><br><br><br><br><br><br><br><br><br><br><br>\n",
    "Ứng dụng Single Value Decomposition, giảm chiều dữ liệu, loại bỏ các đối tượng tạm thời, giữ lại thông tin chính là các đối tượng cố định : làn đường,.."
   ]
  },
  {
   "cell_type": "markdown",
   "metadata": {},
   "source": [
    "# Cosine similarity\n",
    "\n",
    "### Cosine similarity (cs) được dùng để đo mức độ giống nhau / tương đồng giữa hai vector\n",
    "\n",
    "<img align=\"left\" src=\"cosine_similarity_1.png\" >"
   ]
  },
  {
   "cell_type": "markdown",
   "metadata": {},
   "source": [
    "# Stereo Matching\n",
    "\n",
    "### Gồm 3 bước:\n",
    "1. Calibration\n",
    "2. Rectification\n",
    "3. Stereo Matching\n",
    "\n",
    "## Thuật toán Stereo Matching\n",
    "### Input: Ảnh trái và ảnh phải đã được Rectify\n",
    "\n",
    "Một số chú ý: \n",
    "1. Lấy một điểm trên ảnh trái, đi tìm điểm tương ứng trên ảnh phải, và tính độ lệch - dispairity\n",
    "    + Giả sử điểm lấy có tọa độ (x,y) thì tìm điểm có tọa độ (x,y) tương ứng bên ảnh phải, rồi đi dần về phía trái k đơn vị (k thường lấy 25)\n",
    "    + Trong k điểm này, tìm xem điểm nào có giá trị pixel giống với điểm (x,y) nhất, chọn điểm đó và tính khoảng cách theo trục x\n",
    "    + Sau khi tính được khoảng cách đó thì gán giá trị khoảng cách đó vào dispairity map\n",
    "    \n",
    "2. Giả sử điểm ảnh bên trái và điểm ảnh bên phải tương ứng là như nhau thì ta dùng cách như trên.\n",
    "3. Nếu giả sử ở 2 là sai, thì ta cần tăng dữ liệu lên để giảm nhiễu thì ta sẽ sử dụng một window thay vì một điểm\n",
    "4. Nhược điểm của các phương pháp là bị sai nếu ảnh hưởng bởi độ sáng. Với trường hợp sử dụng window, để giải quyết vấn đề này thì ta có thể chuyển window thành một vector và thay vì tính tổng khoảng cách các pixel của hai window, thì ta dùng **cosine similarity** để so sánh.\n",
    "<img align=\"left\" src=\"stereo_method_1.png\" >\n",
    "\n",
    "<img align=\"left\" src=\"stereo_method_2.png\" >\n",
    "\n",
    "<img align=\"left\" src=\"stereo_cosine.png\" >"
   ]
  }
 ],
 "metadata": {
  "kernelspec": {
   "display_name": "Python 3",
   "language": "python",
   "name": "python3"
  },
  "language_info": {
   "codemirror_mode": {
    "name": "ipython",
    "version": 3
   },
   "file_extension": ".py",
   "mimetype": "text/x-python",
   "name": "python",
   "nbconvert_exporter": "python",
   "pygments_lexer": "ipython3",
   "version": "3.7.6"
  }
 },
 "nbformat": 4,
 "nbformat_minor": 4
}
